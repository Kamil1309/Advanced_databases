{
 "cells": [
  {
   "cell_type": "code",
   "execution_count": 1,
   "metadata": {},
   "outputs": [],
   "source": [
    "import math\n",
    "import numpy as np\n",
    "import matplotlib.pyplot as plt\n",
    "\n",
    "#Ex 1\n",
    "k = 1240 * math.sqrt(7)\n",
    "m = 4467\n",
    "l = complex (0 , 2)\n",
    "d = k + m \n",
    "c = d + l"
   ]
  },
  {
   "cell_type": "code",
   "execution_count": 2,
   "metadata": {},
   "outputs": [
    {
     "name": "stdout",
     "output_type": "stream",
     "text": [
      "7747.731625720093\n",
      "7747.732\n",
      "7747.731625720093\n"
     ]
    }
   ],
   "source": [
    "#Ex 2\n",
    "print(d)\n",
    "print( round( d, 3))\n",
    "print( round( d, 20))"
   ]
  },
  {
   "cell_type": "code",
   "execution_count": 3,
   "metadata": {},
   "outputs": [
    {
     "name": "stdout",
     "output_type": "stream",
     "text": [
      "5340.707511102648\n"
     ]
    }
   ],
   "source": [
    "#Ex 3\n",
    "r = 17\n",
    "h = 33\n",
    "\n",
    "P = 2 * math.pi * r**2 + 2 * math.pi * r * h\n",
    "print(P)"
   ]
  },
  {
   "cell_type": "code",
   "execution_count": 4,
   "metadata": {
    "scrolled": true
   },
   "outputs": [
    {
     "data": {
      "text/plain": [
       "'\\nMultiline comments\\n'"
      ]
     },
     "execution_count": 4,
     "metadata": {},
     "output_type": "execute_result"
    }
   ],
   "source": [
    "#Ex 4\n",
    "\"\"\"\n",
    "Multiline comments\n",
    "\"\"\"\n",
    "#line comment"
   ]
  },
  {
   "cell_type": "code",
   "execution_count": 5,
   "metadata": {},
   "outputs": [
    {
     "name": "stdout",
     "output_type": "stream",
     "text": [
      "48448.372420473344\n"
     ]
    }
   ],
   "source": [
    "# Ex 5\n",
    "x1 = 5 \n",
    "t = 3\n",
    "r = 2\n",
    "\n",
    "B = (x1 + r)/(r * math.sin(2 * x1) + 3.3456) * x1 **(t*r)\n",
    "print(B)"
   ]
  },
  {
   "cell_type": "code",
   "execution_count": 6,
   "metadata": {},
   "outputs": [
    {
     "name": "stdout",
     "output_type": "stream",
     "text": [
      "[[ 0.10355339  0.75       -0.60355339]\n",
      " [ 0.35355339  0.14644661  0.35355339]\n",
      " [-0.35355339  0.85355339 -0.35355339]] \n",
      "\n",
      " [[ 1.41421356  0.         -1.41421356]\n",
      " [ 1.          1.          1.41421356]\n",
      " [-1.41421356  1.          1.        ]] \n",
      "\n",
      " -4.0\n"
     ]
    }
   ],
   "source": [
    "#Ex 6\n",
    "a = math.sqrt(2)\n",
    "M = np.array([[ a, 1, -a],[ 0, 1, 1],[ -a, a, 1]])\n",
    "\n",
    "inv_M = np.linalg.inv(M)\n",
    "trans_M = M.transpose()\n",
    "determinant = np.linalg.det(M)\n",
    "\n",
    "print(inv_M, \"\\n\\n\", trans_M, \"\\n\\n\", determinant)"
   ]
  },
  {
   "cell_type": "code",
   "execution_count": 7,
   "metadata": {},
   "outputs": [
    {
     "name": "stdout",
     "output_type": "stream",
     "text": [
      "Element 1x1: 1.4142135623730951\n",
      "Element 3x3: 1.0\n",
      "Element 3x2: 1.4142135623730951\n"
     ]
    }
   ],
   "source": [
    "print(\"Element 1x1: {0}\".format(M[0,0]))\n",
    "print(\"Element 3x3: {0}\".format(M[2,2]))\n",
    "print(\"Element 3x2: {0}\".format(M[2,1]))"
   ]
  },
  {
   "cell_type": "code",
   "execution_count": 8,
   "metadata": {},
   "outputs": [
    {
     "name": "stdout",
     "output_type": "stream",
     "text": [
      "Vector 1:\n",
      " [-1.41421356  1.41421356  1.        ]\n",
      "Vector 2:\n",
      " [1.         1.         1.41421356]\n"
     ]
    }
   ],
   "source": [
    "vector1 = M[2,:]\n",
    "vector2 = M[:,1]\n",
    "\n",
    "print(\"Vector 1:\\n {0}\".format(vector1))\n",
    "print(\"Vector 2:\\n {0}\".format(vector2))"
   ]
  },
  {
   "cell_type": "code",
   "execution_count": 9,
   "metadata": {},
   "outputs": [
    {
     "name": "stdout",
     "output_type": "stream",
     "text": [
      "Roots :\n",
      " [ 8.09382888e+00+0.j         -4.99600361e-16+2.j\n",
      " -4.99600361e-16-2.j         -5.46914441e-01+1.24665488j\n",
      " -5.46914441e-01-1.24665488j]\n"
     ]
    }
   ],
   "source": [
    "#Ex 7\n",
    "p = [1, -7, -3, -43, -28, -60]\n",
    "roots = np.roots(p)\n",
    "print(\"Roots :\\n {0}\".format(roots))"
   ]
  },
  {
   "cell_type": "code",
   "execution_count": 10,
   "metadata": {},
   "outputs": [
    {
     "name": "stdout",
     "output_type": "stream",
     "text": [
      "Arithmetic strings (arange) :\n",
      " [0.  0.1 0.2 0.3 0.4 0.5 0.6 0.7 0.8 0.9 1.  1.1 1.2 1.3 1.4 1.5 1.6 1.7\n",
      " 1.8 1.9]\n",
      "Arithmetic strings (linspace) :\n",
      " [0.  0.1 0.2 0.3 0.4 0.5 0.6 0.7 0.8 0.9 1.  1.1 1.2 1.3 1.4 1.5 1.6 1.7\n",
      " 1.8 1.9]\n"
     ]
    }
   ],
   "source": [
    "#Ex 8\n",
    "ar_str1 = np.arange( 0, 2, 0.1 )\n",
    "ar_str2 = np.linspace(0, 2, num=20, endpoint=False)\n",
    "\n",
    "\n",
    "print(\"Arithmetic strings (arange) :\\n {0}\".format(ar_str1))\n",
    "print(\"Arithmetic strings (linspace) :\\n {0}\".format(ar_str2))"
   ]
  },
  {
   "cell_type": "code",
   "execution_count": 11,
   "metadata": {},
   "outputs": [
    {
     "data": {
      "image/png": "[encoded data removed]",
      "text/plain": [
       "<Figure size 432x288 with 1 Axes>"
      ]
     },
     "metadata": {
      "needs_background": "light"
     },
     "output_type": "display_data"
    },
    {
     "data": {
      "image/png": "[encoded data removed]",
      "text/plain": [
       "<Figure size 432x288 with 1 Axes>"
      ]
     },
     "metadata": {
      "needs_background": "light"
     },
     "output_type": "display_data"
    },
    {
     "data": {
      "image/png": "[encoded data removed]",
      "text/plain": [
       "<Figure size 432x288 with 1 Axes>"
      ]
     },
     "metadata": {
      "needs_background": "light"
     },
     "output_type": "display_data"
    }
   ],
   "source": [
    "# Ex 9\n",
    "def f(x):\n",
    "    return x**3-3*x\n",
    "\n",
    "def make_plot( f, range):\n",
    "    x = np.linspace(range[0], range[1])\n",
    "    y = f(x)   \n",
    "    plt.plot(x, y)\n",
    "    plt.title('Example chart')\n",
    "    plt.xlabel('x')\n",
    "    plt.ylabel('y')\n",
    "    plt.legend('Chart 1')\n",
    "    plt.show()\n",
    "\n",
    "make_plot( f, [-1, 1])\n",
    "make_plot( f, [-5, 5])\n",
    "make_plot( f, [0, 5])"
   ]
  },
  {
   "cell_type": "code",
   "execution_count": 12,
   "metadata": {},
   "outputs": [
    {
     "name": "stdout",
     "output_type": "stream",
     "text": [
      "Heat in joules :\n",
      " 347.2222222222223\n",
      "Heat in kcal :\n",
      " 82.98810282557893\n"
     ]
    }
   ],
   "source": [
    "#Ex 10\n",
    "\n",
    "m = 2.5\n",
    "v = 60/3.6\n",
    "\n",
    "Q_j = m * v**2/2\n",
    "Q_kcal = m * v**2/2/4.184\n",
    "\n",
    "print(\"Heat in joules :\\n {0}\".format(Q_j))\n",
    "print(\"Heat in kcal :\\n {0}\".format(Q_kcal))"
   ]
  },
  {
   "cell_type": "code",
   "execution_count": 13,
   "metadata": {},
   "outputs": [
    {
     "data": {
      "image/png": "[encoded data removed]",
      "text/plain": [
       "<Figure size 432x288 with 1 Axes>"
      ]
     },
     "metadata": {
      "needs_background": "light"
     },
     "output_type": "display_data"
    }
   ],
   "source": [
    "m = 3 \n",
    "\n",
    "def f_Q_j(x):\n",
    "    return m * x**2/2\n",
    "\n",
    "make_plot( f_Q_j, [0, 200/3.6])"
   ]
  },
  {
   "cell_type": "code",
   "execution_count": 14,
   "metadata": {},
   "outputs": [
    {
     "data": {
      "image/png": "[encoded data removed]",
      "text/plain": [
       "<Figure size 432x288 with 1 Axes>"
      ]
     },
     "metadata": {
      "needs_background": "light"
     },
     "output_type": "display_data"
    }
   ],
   "source": [
    "x = np.linspace(0, 200)\n",
    "y = f_Q_j(x)   \n",
    "plt.semilogy(x, y)\n",
    "plt.title('log chart')\n",
    "plt.xlabel('x')\n",
    "plt.ylabel('y')\n",
    "plt.legend('Chart 1')\n",
    "plt.show()"
   ]
  },
  {
   "cell_type": "code",
   "execution_count": 43,
   "metadata": {},
   "outputs": [],
   "source": [
    "#Ex 11\n",
    "\n",
    "class Quaternion:\n",
    "    def __init__(self, a, b, c, d):\n",
    "        self.__a = a\n",
    "        self.__b = b\n",
    "        self.__c = c\n",
    "        self.__d = d\n",
    "        \n",
    "    def conjugate(self):\n",
    "        return Quaternion( self.__a, -self.__b, -self.__c, -self.__d )\n",
    "            \n",
    "    def normalise(self):\n",
    "        d = math.sqrt(self.__a ** 2 + self.__b ** 2 + self.__c ** 2 + self.__d ** 2)\n",
    "        return Quaternion( self.__a/d, self.__b/d, self.__c/d, self.__d/d )\n",
    "    \n",
    "    def __str__(self):\n",
    "        return '{0} + {1}i + {2}j + {3}k'.format(self.__a, self.__b, self.__c, self.__d)\n",
    "    \n",
    "    def __add__(self, another_q):\n",
    "        return Quaternion( self.__a + another_q.__a,\\\n",
    "                           self.__b + another_q.__b,\\\n",
    "                           self.__c + another_q.__c,\\\n",
    "                           self.__d + another_q.__d)\n",
    "\n",
    "    def __sub__(self, another_q):\n",
    "        return Quaternion( self.__a - another_q.__a,\\\n",
    "                           self.__b - another_q.__b,\\\n",
    "                           self.__c - another_q.__c,\\\n",
    "                           self.__d - another_q.__d)\n",
    "    \n",
    "    def __mul__(self, another_q):\n",
    "        if type(another_q) == Quaternion:\n",
    "            return Quaternion( self.__a * another_q.__a - self.__b * another_q.__b - self.__c * another_q.__c - self.__d * another_q.__d,\\\n",
    "                               self.__a * another_q.__b + self.__b * another_q.__a + self.__c * another_q.__d - self.__d * another_q.__c,\\\n",
    "                               self.__a * another_q.__c - self.__b * another_q.__d + self.__c * another_q.__a + self.__d * another_q.__b,\\\n",
    "                               self.__a * another_q.__d + self.__b * another_q.__c - self.__c * another_q.__b + self.__d * another_q.__a)\n",
    "        elif type(another_q) == int:\n",
    "            return Quaternion( self.__a * another_q, self.__b * another_q, self.__c * another_q, self.__d * another_q  )\n",
    "        \n",
    "    def __truediv__(self, another_q):\n",
    "        if type(another_q) == Quaternion:\n",
    "            t0 = (self.__a * another_q.__a + self.__b * another_q.__b + self.__c * another_q.__c + self.__d * another_q.__d)/  \\\n",
    "                    ( another_q.__a ** 2 + another_q.__b ** 2 + another_q.__c ** 2 + another_q.__d ** 2)\n",
    "            t1 = (self.__b * another_q.__a - self.__a * another_q.__b - self.__d * another_q.__c + self.__c * another_q.__d)/  \\\n",
    "                    ( another_q.__a ** 2 + another_q.__b ** 2 + another_q.__c ** 2 + another_q.__d ** 2)\n",
    "            t2 = (self.__c * another_q.__a + self.__d * another_q.__b - self.__a * another_q.__c - self.__b * another_q.__d)/  \\\n",
    "                    ( another_q.__a ** 2 + another_q.__b ** 2 + another_q.__c ** 2 + another_q.__d ** 2)\n",
    "            t3 = (self.__d * another_q.__a - self.__c * another_q.__b + self.__b * another_q.__c - self.__a * another_q.__d)/  \\\n",
    "                    ( another_q.__a ** 2 + another_q.__b ** 2 + another_q.__c ** 2 + another_q.__d ** 2)\n",
    "            return Quaternion( t0, t1, t2, t3 )\n",
    "        elif type(another_q) == int:\n",
    "            t0 = self.__a/another_q\n",
    "            t1 = self.__b/another_q\n",
    "            t2 = self.__c/another_q\n",
    "            t3 = self.__d/another_q\n",
    "            return Quaternion( t0, t1, t2, t3 )\n",
    "    \n",
    "    @property\n",
    "    def a(self):\n",
    "        return self.__a\n",
    "    @a.setter\n",
    "    def a(self, a):\n",
    "        self.__a = a\n",
    "        \n",
    "    @property\n",
    "    def b(self):\n",
    "        return self.__b\n",
    "    @a.setter\n",
    "    def b(self, b):\n",
    "        self.__b = b\n",
    "        \n",
    "    @property\n",
    "    def c(self):\n",
    "        return self.__c\n",
    "    @a.setter\n",
    "    def c(self, c):\n",
    "        self.__c = c\n",
    "        \n",
    "    @property\n",
    "    def d(self):\n",
    "        return self.__d\n",
    "    @a.setter\n",
    "    def d(self, d):\n",
    "        self.__d = d"
   ]
  },
  {
   "cell_type": "code",
   "execution_count": 44,
   "metadata": {},
   "outputs": [
    {
     "name": "stdout",
     "output_type": "stream",
     "text": [
      "5 + 4i + 3j + -6k\n",
      "12 + 4i + 2j + -12k\n"
     ]
    }
   ],
   "source": [
    "q1 = Quaternion( 5, 4, 3, -6)\n",
    "q2 = Quaternion( 12, 4, 2, -12)\n",
    "print(q1)\n",
    "print(q2)"
   ]
  },
  {
   "cell_type": "code",
   "execution_count": 45,
   "metadata": {},
   "outputs": [
    {
     "name": "stdout",
     "output_type": "stream",
     "text": [
      "17 + 8i + 5j + -18k\n",
      "-7 + 0i + 1j + 6k\n"
     ]
    }
   ],
   "source": [
    "print(q1 + q2) \n",
    "print(q1 - q2) "
   ]
  },
  {
   "cell_type": "code",
   "execution_count": 46,
   "metadata": {},
   "outputs": [
    {
     "name": "stdout",
     "output_type": "stream",
     "text": [
      "-34 + 44i + 70j + -136k\n",
      "-34 + 92i + 22j + -128k\n"
     ]
    }
   ],
   "source": [
    "print(q1 * q2) \n",
    "print(q2 * q1) "
   ]
  },
  {
   "cell_type": "code",
   "execution_count": 47,
   "metadata": {},
   "outputs": [
    {
     "name": "stdout",
     "output_type": "stream",
     "text": [
      "25 + 20i + 15j + -30k\n",
      "12 + 4i + 2j + -12k\n"
     ]
    }
   ],
   "source": [
    "print(q1 * 5) \n",
    "print(q2 * 1) "
   ]
  },
  {
   "cell_type": "code",
   "execution_count": 48,
   "metadata": {},
   "outputs": [
    {
     "name": "stdout",
     "output_type": "stream",
     "text": [
      "0.5 + 0.012987012987012988i + 0.16233766233766234j + -0.05194805194805195k\n",
      "1.7906976744186047 + -0.046511627906976744i + -0.5813953488372093j + 0.18604651162790697k\n"
     ]
    }
   ],
   "source": [
    "print(q1 / q2) \n",
    "print(q2 / q1) "
   ]
  },
  {
   "cell_type": "code",
   "execution_count": 49,
   "metadata": {},
   "outputs": [
    {
     "name": "stdout",
     "output_type": "stream",
     "text": [
      "1.0 + 0.8i + 0.6j + -1.2k\n",
      "4.0 + 1.3333333333333333i + 0.6666666666666666j + -4.0k\n"
     ]
    }
   ],
   "source": [
    "print(q1 / 5) \n",
    "print(q2 / 3) "
   ]
  },
  {
   "cell_type": "code",
   "execution_count": 50,
   "metadata": {},
   "outputs": [
    {
     "name": "stdout",
     "output_type": "stream",
     "text": [
      "5 + -4i + -3j + 6k\n",
      "12 + -4i + -2j + 12k\n"
     ]
    }
   ],
   "source": [
    "print(q1.conjugate())\n",
    "print(q2.conjugate())"
   ]
  },
  {
   "cell_type": "code",
   "execution_count": 51,
   "metadata": {},
   "outputs": [
    {
     "name": "stdout",
     "output_type": "stream",
     "text": [
      "0.539163866017192 + 0.43133109281375365i + 0.3234983196103152j + -0.6469966392206304k\n",
      "0.6837634587578276 + 0.2279211529192759i + 0.11396057645963795j + -0.6837634587578276k\n"
     ]
    }
   ],
   "source": [
    "print(q1.normalise())\n",
    "print(q2.normalise())"
   ]
  },
  {
   "cell_type": "code",
   "execution_count": null,
   "metadata": {},
   "outputs": [],
   "source": []
  }
 ],
 "metadata": {
  "kernelspec": {
   "display_name": "Python 3",
   "language": "python",
   "name": "python3"
  },
  "language_info": {
   "codemirror_mode": {
    "name": "ipython",
    "version": 3
   },
   "file_extension": ".py",
   "mimetype": "text/x-python",
   "name": "python",
   "nbconvert_exporter": "python",
   "pygments_lexer": "ipython3",
   "version": "3.7.1"
  }
 },
 "nbformat": 4,
 "nbformat_minor": 4
}
